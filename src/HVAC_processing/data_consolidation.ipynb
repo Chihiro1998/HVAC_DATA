{
 "cells": [
  {
   "cell_type": "code",
   "execution_count": 23,
   "id": "initial_id",
   "metadata": {
    "collapsed": true,
    "ExecuteTime": {
     "end_time": "2025-04-03T01:01:46.317722900Z",
     "start_time": "2025-04-03T01:01:46.310817200Z"
    }
   },
   "outputs": [],
   "source": [
    "import pandas as pd\n",
    "import os"
   ]
  },
  {
   "cell_type": "markdown",
   "source": [
    "**This is designed for data processing and merging in the context of HVAC (Heating,\n",
    "Ventilation, and Air - Conditioning). It first loads metadata from building and weather \n",
    "information CSV files. Then, it combines multiple building and weather data files \n",
    "respectively, skipping specific rows and handling duplicates. After standardizing \n",
    "timestamps, it merges the two datasets based on timestamps and saves the final merged data.**"
   ],
   "metadata": {
    "collapsed": false
   },
   "id": "ae883079cde3b5fe"
  },
  {
   "cell_type": "code",
   "outputs": [],
   "source": [
    "# 1. Load Metadata\n",
    "building_info = pd.read_csv('../../HVAC/Building_Information.csv')\n",
    "weather_info = pd.read_csv('../../HVAC/Weather_Information.csv')"
   ],
   "metadata": {
    "collapsed": false,
    "ExecuteTime": {
     "end_time": "2025-04-03T01:01:46.344572800Z",
     "start_time": "2025-04-03T01:01:46.317722900Z"
    }
   },
   "id": "6fc621ba669ee8e2",
   "execution_count": 24
  },
  {
   "cell_type": "code",
   "outputs": [],
   "source": [
    "# 2. Merge building data files (modified processing unit rows)\n",
    "def load_and_combine_building_data(folder_path):\n",
    "    # Get all building data files\n",
    "    building_files = [f for f in os.listdir(folder_path) \n",
    "                     if f.startswith('Building_') and f.endswith('.csv') \n",
    "                     and not 'Information' in f]\n",
    "    \n",
    "    dfs = []\n",
    "    for file in building_files:\n",
    "        # Read each file, skipping the second unit line\n",
    "        df = pd.read_csv(f'{folder_path}/{file}', skiprows=[1])\n",
    "        # Add filenames as identifiers\n",
    "        df['source_file'] = file\n",
    "        dfs.append(df)\n",
    "    \n",
    "    # Consolidation of all building data\n",
    "    building_df = pd.concat(dfs, ignore_index=True)\n",
    "    \n",
    "    # Sorting and de-duplication by timestamp\n",
    "    building_df = building_df.sort_values('TIMESTAMP').drop_duplicates('TIMESTAMP')\n",
    "    \n",
    "    return building_df\n",
    "\n",
    "building_data = load_and_combine_building_data('../../HVAC')"
   ],
   "metadata": {
    "collapsed": false,
    "ExecuteTime": {
     "end_time": "2025-04-03T01:01:47.902153200Z",
     "start_time": "2025-04-03T01:01:46.349361500Z"
    }
   },
   "id": "bffef9b4a9313708",
   "execution_count": 25
  },
  {
   "cell_type": "code",
   "outputs": [],
   "source": [
    "# 3. Merge Weather Data Files (Modified Processing Unit Row)\n",
    "def load_and_combine_weather_data(folder_path):\n",
    "    # Get all weather data files\n",
    "    weather_files = [f for f in os.listdir(folder_path) \n",
    "                    if f.startswith('Weather_') and f.endswith('.csv') \n",
    "                    and not 'Information' in f]\n",
    "    \n",
    "    dfs = []\n",
    "    for file in weather_files:\n",
    "        # Read each file, skipping the second unit line\n",
    "        df = pd.read_csv(f'{folder_path}/{file}', skiprows=[1])\n",
    "        # Add filenames as identifiers\n",
    "        df['source_file'] = file\n",
    "        dfs.append(df)\n",
    "    \n",
    "    # Consolidate all weather data\n",
    "    weather_df = pd.concat(dfs, ignore_index=True)\n",
    "    \n",
    "    # Sorting and de-duplication by timestamp\n",
    "    weather_df = weather_df.sort_values('TIMESTAMP').drop_duplicates('TIMESTAMP')\n",
    "    \n",
    "    return weather_df\n",
    "\n",
    "weather_data = load_and_combine_weather_data('../../HVAC')"
   ],
   "metadata": {
    "collapsed": false,
    "ExecuteTime": {
     "end_time": "2025-04-03T01:01:48.249897Z",
     "start_time": "2025-04-03T01:01:47.905670100Z"
    }
   },
   "id": "53de3e07d67aff7e",
   "execution_count": 26
  },
  {
   "cell_type": "code",
   "outputs": [],
   "source": [
    "# 4. Standardized timestamp format\n",
    "def standardize_timestamps(df, time_column='TIMESTAMP'):\n",
    "    # Make sure the time column is of type datetime\n",
    "    df[time_column] = pd.to_datetime(df[time_column])\n",
    "    return df\n",
    "\n",
    "building_data = standardize_timestamps(building_data)\n",
    "weather_data = standardize_timestamps(weather_data)\n",
    "\n"
   ],
   "metadata": {
    "collapsed": false,
    "ExecuteTime": {
     "end_time": "2025-04-03T01:01:48.543344900Z",
     "start_time": "2025-04-03T01:01:48.252904200Z"
    }
   },
   "id": "5af634871b2f04e3",
   "execution_count": 27
  },
  {
   "cell_type": "code",
   "outputs": [],
   "source": [
    "# 5. Merge building and weather data\n",
    "def merge_building_weather(building_df, weather_df):\n",
    "    # Merge using timestamps as keys\n",
    "    merged_df = pd.merge_asof(\n",
    "        building_df.sort_values('TIMESTAMP'),\n",
    "        weather_df.sort_values('TIMESTAMP'),\n",
    "        on='TIMESTAMP',\n",
    "        direction='nearest',\n",
    "        tolerance=pd.Timedelta('15min'))\n",
    "    return merged_df\n",
    "\n",
    "final_data = merge_building_weather(building_data, weather_data)"
   ],
   "metadata": {
    "collapsed": false,
    "ExecuteTime": {
     "end_time": "2025-04-03T01:01:48.644470Z",
     "start_time": "2025-04-03T01:01:48.546347200Z"
    }
   },
   "id": "c0d5066fb0cc3acf",
   "execution_count": 28
  },
  {
   "cell_type": "code",
   "outputs": [
    {
     "name": "stdout",
     "output_type": "stream",
     "text": [
      "Data merge complete, shape. (64798, 86)\n",
      "The merged data has been saved to. ../../outputs/HVAC_merged_data.csv\n",
      "\n",
      "Preview of the first 5 rows of data.\n"
     ]
    },
    {
     "data": {
      "text/plain": "            TIMESTAMP  T_Stair_101  T_Room_102  T_Room_103  T_Room_104  \\\n0 2021-02-23 00:00:00    10.788889   15.583333   20.422222   16.405556   \n1 2021-02-23 00:01:00    10.783333   15.583333   20.388889   16.405556   \n2 2021-02-23 00:02:00    10.783333   15.561111   20.422222   16.388889   \n3 2021-02-23 00:03:00    10.783333   15.577778   20.383333   16.394444   \n4 2021-02-23 00:04:00    10.783333   15.544444   20.411111   16.388889   \n\n   T_Room_105  T_Room_106  T_Stair_201  T_Room_202  T_Room_203  ...  \\\n0   19.250000   17.844444    12.988889   18.905556   16.388889  ...   \n1   19.233333   17.816667    12.983333   18.933333   16.388889  ...   \n2   19.244444   17.833333    12.972222   18.911111   16.411111  ...   \n3   19.244444   17.805556    12.972222   18.933333   16.361111  ...   \n4   19.233333   17.827778    12.961111   18.933333   16.394444  ...   \n\n             source_file_x     T_out  RH_out          BP  Dir_Solar  \\\n0  Building_FF_Heating.csv  1.250000    89.8  98377.8156      0.106   \n1  Building_FF_Heating.csv  1.266667    89.5  98377.8156      0.053   \n2  Building_FF_Heating.csv  1.300000    89.1  98377.8156      0.106   \n3  Building_FF_Heating.csv  1.361111    88.5  98377.8156      0.106   \n4  Building_FF_Heating.csv  1.350000    88.3  98377.8156      0.053   \n\n   Dif_Solar  Glo_Solar   WS   WD           source_file_y  \n0      0.092     -1.358  0.0  0.0  Weather_FF_Heating.csv  \n1      0.092     -1.409  0.0  0.0  Weather_FF_Heating.csv  \n2      0.092     -1.358  0.0  0.0  Weather_FF_Heating.csv  \n3      0.138     -1.409  0.0  0.0  Weather_FF_Heating.csv  \n4      0.092     -1.409  0.0  0.0  Weather_FF_Heating.csv  \n\n[5 rows x 86 columns]",
      "text/html": "<div>\n<style scoped>\n    .dataframe tbody tr th:only-of-type {\n        vertical-align: middle;\n    }\n\n    .dataframe tbody tr th {\n        vertical-align: top;\n    }\n\n    .dataframe thead th {\n        text-align: right;\n    }\n</style>\n<table border=\"1\" class=\"dataframe\">\n  <thead>\n    <tr style=\"text-align: right;\">\n      <th></th>\n      <th>TIMESTAMP</th>\n      <th>T_Stair_101</th>\n      <th>T_Room_102</th>\n      <th>T_Room_103</th>\n      <th>T_Room_104</th>\n      <th>T_Room_105</th>\n      <th>T_Room_106</th>\n      <th>T_Stair_201</th>\n      <th>T_Room_202</th>\n      <th>T_Room_203</th>\n      <th>...</th>\n      <th>source_file_x</th>\n      <th>T_out</th>\n      <th>RH_out</th>\n      <th>BP</th>\n      <th>Dir_Solar</th>\n      <th>Dif_Solar</th>\n      <th>Glo_Solar</th>\n      <th>WS</th>\n      <th>WD</th>\n      <th>source_file_y</th>\n    </tr>\n  </thead>\n  <tbody>\n    <tr>\n      <th>0</th>\n      <td>2021-02-23 00:00:00</td>\n      <td>10.788889</td>\n      <td>15.583333</td>\n      <td>20.422222</td>\n      <td>16.405556</td>\n      <td>19.250000</td>\n      <td>17.844444</td>\n      <td>12.988889</td>\n      <td>18.905556</td>\n      <td>16.388889</td>\n      <td>...</td>\n      <td>Building_FF_Heating.csv</td>\n      <td>1.250000</td>\n      <td>89.8</td>\n      <td>98377.8156</td>\n      <td>0.106</td>\n      <td>0.092</td>\n      <td>-1.358</td>\n      <td>0.0</td>\n      <td>0.0</td>\n      <td>Weather_FF_Heating.csv</td>\n    </tr>\n    <tr>\n      <th>1</th>\n      <td>2021-02-23 00:01:00</td>\n      <td>10.783333</td>\n      <td>15.583333</td>\n      <td>20.388889</td>\n      <td>16.405556</td>\n      <td>19.233333</td>\n      <td>17.816667</td>\n      <td>12.983333</td>\n      <td>18.933333</td>\n      <td>16.388889</td>\n      <td>...</td>\n      <td>Building_FF_Heating.csv</td>\n      <td>1.266667</td>\n      <td>89.5</td>\n      <td>98377.8156</td>\n      <td>0.053</td>\n      <td>0.092</td>\n      <td>-1.409</td>\n      <td>0.0</td>\n      <td>0.0</td>\n      <td>Weather_FF_Heating.csv</td>\n    </tr>\n    <tr>\n      <th>2</th>\n      <td>2021-02-23 00:02:00</td>\n      <td>10.783333</td>\n      <td>15.561111</td>\n      <td>20.422222</td>\n      <td>16.388889</td>\n      <td>19.244444</td>\n      <td>17.833333</td>\n      <td>12.972222</td>\n      <td>18.911111</td>\n      <td>16.411111</td>\n      <td>...</td>\n      <td>Building_FF_Heating.csv</td>\n      <td>1.300000</td>\n      <td>89.1</td>\n      <td>98377.8156</td>\n      <td>0.106</td>\n      <td>0.092</td>\n      <td>-1.358</td>\n      <td>0.0</td>\n      <td>0.0</td>\n      <td>Weather_FF_Heating.csv</td>\n    </tr>\n    <tr>\n      <th>3</th>\n      <td>2021-02-23 00:03:00</td>\n      <td>10.783333</td>\n      <td>15.577778</td>\n      <td>20.383333</td>\n      <td>16.394444</td>\n      <td>19.244444</td>\n      <td>17.805556</td>\n      <td>12.972222</td>\n      <td>18.933333</td>\n      <td>16.361111</td>\n      <td>...</td>\n      <td>Building_FF_Heating.csv</td>\n      <td>1.361111</td>\n      <td>88.5</td>\n      <td>98377.8156</td>\n      <td>0.106</td>\n      <td>0.138</td>\n      <td>-1.409</td>\n      <td>0.0</td>\n      <td>0.0</td>\n      <td>Weather_FF_Heating.csv</td>\n    </tr>\n    <tr>\n      <th>4</th>\n      <td>2021-02-23 00:04:00</td>\n      <td>10.783333</td>\n      <td>15.544444</td>\n      <td>20.411111</td>\n      <td>16.388889</td>\n      <td>19.233333</td>\n      <td>17.827778</td>\n      <td>12.961111</td>\n      <td>18.933333</td>\n      <td>16.394444</td>\n      <td>...</td>\n      <td>Building_FF_Heating.csv</td>\n      <td>1.350000</td>\n      <td>88.3</td>\n      <td>98377.8156</td>\n      <td>0.053</td>\n      <td>0.092</td>\n      <td>-1.409</td>\n      <td>0.0</td>\n      <td>0.0</td>\n      <td>Weather_FF_Heating.csv</td>\n    </tr>\n  </tbody>\n</table>\n<p>5 rows × 86 columns</p>\n</div>"
     },
     "metadata": {},
     "output_type": "display_data"
    }
   ],
   "source": [
    "# 6. Preservation of consolidated data\n",
    "output_path = '../../outputs/HVAC_merged_data.csv'\n",
    "final_data.to_csv(output_path, index=False)\n",
    "\n",
    "print(\"Data merge complete, shape.\", final_data.shape)\n",
    "print(\"The merged data has been saved to.\", output_path)\n",
    "print(\"\\nPreview of the first 5 rows of data.\")\n",
    "display(final_data.head())"
   ],
   "metadata": {
    "collapsed": false,
    "ExecuteTime": {
     "end_time": "2025-04-03T01:01:51.020250200Z",
     "start_time": "2025-04-03T01:01:48.647477Z"
    }
   },
   "id": "fbd220f16b048970",
   "execution_count": 29
  }
 ],
 "metadata": {
  "kernelspec": {
   "display_name": "Python 3",
   "language": "python",
   "name": "python3"
  },
  "language_info": {
   "codemirror_mode": {
    "name": "ipython",
    "version": 2
   },
   "file_extension": ".py",
   "mimetype": "text/x-python",
   "name": "python",
   "nbconvert_exporter": "python",
   "pygments_lexer": "ipython2",
   "version": "2.7.6"
  }
 },
 "nbformat": 4,
 "nbformat_minor": 5
}
